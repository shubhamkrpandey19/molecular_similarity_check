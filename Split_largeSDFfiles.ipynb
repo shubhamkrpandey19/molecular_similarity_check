{
 "cells": [
  {
   "cell_type": "code",
   "execution_count": 2,
   "metadata": {},
   "outputs": [
    {
     "name": "stderr",
     "output_type": "stream",
     "text": [
      "[23:26:15] Warning: ambiguous stereochemistry - linear bond arrangement - at atom 3 ignored\n",
      "[23:26:16] Warning: ambiguous stereochemistry - linear bond arrangement - at atom 2 ignored\n",
      "[23:26:16] Warning: ambiguous stereochemistry - linear bond arrangement - at atom 2 ignored\n",
      "[23:26:16] Warning: ambiguous stereochemistry - zero final chiral volume - at atom 1 ignored\n",
      "[23:26:17] Warning: ambiguous stereochemistry - linear bond arrangement - at atom 17 ignored\n",
      "[23:26:17] Warning: ambiguous stereochemistry - linear bond arrangement - at atom 11 ignored\n",
      "[23:26:17] Warning: ambiguous stereochemistry - linear bond arrangement - at atom 37 ignored\n",
      "[23:26:17] Warning: ambiguous stereochemistry - linear bond arrangement - at atom 8 ignored\n",
      "[23:26:17] Warning: ambiguous stereochemistry - linear bond arrangement - at atom 7 ignored\n",
      "[23:26:17] Warning: ambiguous stereochemistry - linear bond arrangement - at atom 1 ignored\n",
      "[23:26:17] Warning: ambiguous stereochemistry - linear bond arrangement - at atom 7 ignored\n",
      "[23:26:18] Warning: ambiguous stereochemistry - linear bond arrangement - at atom 4 ignored\n",
      "[23:26:19] Warning: ambiguous stereochemistry - linear bond arrangement - at atom 3 ignored\n",
      "[23:26:19] Warning: ambiguous stereochemistry - linear bond arrangement - at atom 3 ignored\n",
      "[23:26:19] Warning: ambiguous stereochemistry - linear bond arrangement - at atom 2 ignored\n",
      "[23:26:19] Warning: ambiguous stereochemistry - linear bond arrangement - at atom 10 ignored\n",
      "[23:26:19] Warning: ambiguous stereochemistry - linear bond arrangement - at atom 2 ignored\n",
      "[23:26:19] Warning: ambiguous stereochemistry - linear bond arrangement - at atom 2 ignored\n",
      "[23:26:19] Warning: ambiguous stereochemistry - linear bond arrangement - at atom 1 ignored\n",
      "[23:26:19] Warning: ambiguous stereochemistry - linear bond arrangement - at atom 1 ignored\n",
      "[23:26:19] Warning: ambiguous stereochemistry - linear bond arrangement - at atom 1 ignored\n",
      "[23:26:19] Warning: ambiguous stereochemistry - linear bond arrangement - at atom 2 ignored\n",
      "[23:26:19] Warning: ambiguous stereochemistry - linear bond arrangement - at atom 2 ignored\n",
      "[23:26:19] Warning: ambiguous stereochemistry - linear bond arrangement - at atom 10 ignored\n",
      "[23:26:19] Warning: ambiguous stereochemistry - linear bond arrangement - at atom 4 ignored\n",
      "[23:26:19] Warning: ambiguous stereochemistry - linear bond arrangement - at atom 2 ignored\n",
      "[23:26:20] Warning: ambiguous stereochemistry - linear bond arrangement - at atom 3 ignored\n",
      "[23:26:21] Warning: ambiguous stereochemistry - linear bond arrangement - at atom 1 ignored\n",
      "[23:26:21] Warning: ambiguous stereochemistry - linear bond arrangement - at atom 1 ignored\n",
      "[23:26:21] Warning: ambiguous stereochemistry - linear bond arrangement - at atom 1 ignored\n",
      "[23:26:21] Warning: ambiguous stereochemistry - linear bond arrangement - at atom 1 ignored\n",
      "[23:26:25] Warning: ambiguous stereochemistry - linear bond arrangement - at atom 4 ignored\n"
     ]
    },
    {
     "name": "stdout",
     "output_type": "stream",
     "text": [
      "Total molecules: 500000\n",
      "Files created: 11\n"
     ]
    }
   ],
   "source": [
    "from rdkit import Chem\n",
    "\n",
    "def split_sdf(input_filename, output_prefix, chunk_size=100000):\n",
    "    suppl = Chem.SDMolSupplier(input_filename)\n",
    "    total_molecules = 0\n",
    "    file_index = 11\n",
    "    molecules_in_current_file = 0\n",
    "\n",
    "    output_filename = f\"{output_prefix}_{file_index}.sdf\"\n",
    "    writer = Chem.SDWriter(output_filename)\n",
    "\n",
    "    for mol in suppl:\n",
    "        if mol is None:\n",
    "            continue\n",
    "        writer.write(mol)\n",
    "        total_molecules += 1\n",
    "        molecules_in_current_file += 1\n",
    "        if molecules_in_current_file == chunk_size:\n",
    "            writer.close()\n",
    "            file_index += 1\n",
    "            output_filename = f\"{output_prefix}_{file_index}.sdf\"\n",
    "            writer = Chem.SDWriter(output_filename)\n",
    "            molecules_in_current_file = 0\n",
    "\n",
    "    writer.close()\n",
    "    print(f\"Total molecules: {total_molecules}\")\n",
    "    print(f\"Files created: {file_index}\")\n",
    "\n",
    "# Usage\n",
    "input_filename = \"iis-000-500-000--000-999-999.sdf\"\n",
    "output_prefix = \"set\"\n",
    "split_sdf(input_filename, output_prefix)\n"
   ]
  },
  {
   "cell_type": "code",
   "execution_count": null,
   "metadata": {},
   "outputs": [],
   "source": []
  }
 ],
 "metadata": {
  "kernelspec": {
   "display_name": "Python 3",
   "language": "python",
   "name": "python3"
  },
  "language_info": {
   "codemirror_mode": {
    "name": "ipython",
    "version": 3
   },
   "file_extension": ".py",
   "mimetype": "text/x-python",
   "name": "python",
   "nbconvert_exporter": "python",
   "pygments_lexer": "ipython3",
   "version": "3.9.6"
  }
 },
 "nbformat": 4,
 "nbformat_minor": 2
}
