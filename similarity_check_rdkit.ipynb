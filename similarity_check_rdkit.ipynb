{
 "cells": [
  {
   "cell_type": "code",
   "execution_count": 2,
   "metadata": {},
   "outputs": [],
   "source": [
    "#Load dependencies\n",
    "from rdkit import Chem\n",
    "from rdkit.Chem import DataStructs\n",
    "from rdkit.Chem import Draw"
   ]
  },
  {
   "cell_type": "code",
   "execution_count": 3,
   "metadata": {},
   "outputs": [],
   "source": [
    "# Load the reference molecule\n",
    "# we need to add alpha-keto glutarate as reference structure (negatively charged 2-)\n",
    "ref = Chem.MolFromSmiles('O=C([O-])CCC(=O)C(=O)[O-]')\n",
    "fp1 = Chem.RDKFingerprint(ref)\n",
    "\n",
    "Draw.MolToImage(ref).show()"
   ]
  },
  {
   "cell_type": "code",
   "execution_count": 5,
   "metadata": {},
   "outputs": [],
   "source": [
    "# Load the molecules from the SDF file\n",
    "suppl = Chem.SDMolSupplier('set_1.sdf')\n",
    "\n",
    "# Create a list to store similar molecules\n",
    "similar_molecules = []\n",
    "\n",
    "# Calculate similarity for each molecule and store if similarity is above 0.4\n",
    "for mol in suppl:\n",
    "    if mol is not None:  # Check if the molecule was loaded successfully\n",
    "        fp2 = Chem.RDKFingerprint(mol)\n",
    "        similarity = DataStructs.TanimotoSimilarity(fp1, fp2)\n",
    "        if similarity >= 0.4:\n",
    "            similar_molecules.append((mol, similarity))\n",
    "\n",
    "# Sort similar molecules based on similarity\n",
    "similar_molecules.sort(key=lambda x: x[1], reverse=True)\n",
    "\n",
    "# Create a new SD writer for the sorted molecules\n",
    "w = Chem.SDWriter('sorted_molecules.sdf')\n",
    "\n",
    "# Write the sorted molecules to the new .sdf file and plot them\n",
    "for mol, similarity in similar_molecules:\n",
    "    # Write the molecule to the new .sdf file\n",
    "    w.write(mol)\n",
    "\n",
    "    # Plot the molecule\n",
    "    Draw.MolToImage(mol).show()\n",
    "\n",
    "# Close the writer\n",
    "w.close()"
   ]
  },
  {
   "cell_type": "code",
   "execution_count": null,
   "metadata": {},
   "outputs": [],
   "source": []
  },
  {
   "cell_type": "code",
   "execution_count": null,
   "metadata": {},
   "outputs": [],
   "source": []
  }
 ],
 "metadata": {
  "kernelspec": {
   "display_name": "Python 3",
   "language": "python",
   "name": "python3"
  },
  "language_info": {
   "codemirror_mode": {
    "name": "ipython",
    "version": 3
   },
   "file_extension": ".py",
   "mimetype": "text/x-python",
   "name": "python",
   "nbconvert_exporter": "python",
   "pygments_lexer": "ipython3",
   "version": "3.9.6"
  }
 },
 "nbformat": 4,
 "nbformat_minor": 2
}
